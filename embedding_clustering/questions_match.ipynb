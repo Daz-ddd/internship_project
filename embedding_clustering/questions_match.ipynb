{
 "cells": [
  {
   "cell_type": "code",
   "execution_count": 1,
   "metadata": {},
   "outputs": [
    {
     "name": "stderr",
     "output_type": "stream",
     "text": [
      "/home/zhouyunmeng/software/Anaconda3/lib/python3.9/site-packages/scipy/__init__.py:146: UserWarning: A NumPy version >=1.16.5 and <1.23.0 is required for this version of SciPy (detected version 1.24.3\n",
      "  warnings.warn(f\"A NumPy version >={np_minversion} and <{np_maxversion}\"\n",
      "/home/zhouyunmeng/software/Anaconda3/lib/python3.9/site-packages/text2vec/utils/get_file.py:16: TqdmExperimentalWarning: Using `tqdm.autonotebook.tqdm` in notebook mode. Use `tqdm.tqdm` instead to force console mode (e.g. in jupyter console)\n",
      "  from tqdm.autonotebook import tqdm\n",
      "\u001b[32m2023-05-29 13:59:46.781\u001b[0m | \u001b[34m\u001b[1mDEBUG   \u001b[0m | \u001b[36mtext2vec.sentence_model\u001b[0m:\u001b[36m__init__\u001b[0m:\u001b[36m74\u001b[0m - \u001b[34m\u001b[1mUse device: cuda\u001b[0m\n"
     ]
    }
   ],
   "source": [
    "from text2vec import SentenceModel\n",
    "from tqdm.autonotebook import tqdm\n",
    "from sklearn.metrics.pairwise import cosine_similarity\n",
    "\n",
    "import pandas as pd\n",
    "import numpy as np\n",
    "import re\n",
    "\n",
    "t2v_model = SentenceModel(\"shibing624/text2vec-base-chinese\", device=\"cuda\")\n"
   ]
  },
  {
   "cell_type": "code",
   "execution_count": 2,
   "metadata": {},
   "outputs": [
    {
     "data": {
      "text/plain": [
       "[{'Q': '你这个比电话卡贵很多/太贵了/价格太高了',\n",
       "  'A': '我们产品不仅可以解决您封号的问题，还能极大提升销售和销售管理的效率；目前我们公司已合作了5万多家客户，还拿到了8千万的融资，产品的稳定性您可以放心。我们给您带来的不仅是稳定的外呼，拨打量翻倍一个人干两个人的活，还能严格的管理团队，让您团队业绩更好。并且在同等实力的公司里面，我们没有年费和开通门槛，1个坐席起卖；还有专门的销售专家团队，一起帮您提高销售效率；您可以免费试用一下我们的产品，看是否能帮到您；'},\n",
       " {'Q': '为什么要收资料？怎么要这么多资料？别人家不需要收这么多资料？这么多资料太麻烦了',\n",
       "  'A': '当前封号严重，就是因为国家在对外呼行业进行严格管控。要想不封号只有一条路径就是开通外呼专线，国家和运营商对开通外呼专线的基本要求是要提供企业资质，也就是企业要证明自己是合规合法的，例如营业执照、法人信息等企业资质。正规外呼专线都要求提供公司完整的资料，但凡不要求你提供的那都是假的，国家不可能允许，在合规的前提下我们公司所需要配合提供的资质是最少的；'},\n",
       " {'Q': '你们是怎么做封号的? 防封的原理是什么？封号的机制是什么？',\n",
       "  'A': '首先是高频拨打封号，其次是投诉举报，比如辱骂客户，长期拨打同号码，产生骚扰导致投诉。这两种情况都会封号。我们怎么解决的跟您说一下：首先用企业专用营销线路可以解决高频外呼封号，其次，投诉举报封号是工信部进行封号的，谁也解决不了。我们产品有电销卫士这个功能，可以帮您提前筛除各类风险号码，跳过该类号码拨打，从而降低投诉举报风险。'}]"
      ]
     },
     "execution_count": 2,
     "metadata": {},
     "output_type": "execute_result"
    }
   ],
   "source": [
    "quality_qa_list = []\n",
    "quality_qa_list.append({'Q': '你这个比电话卡贵很多/太贵了/价格太高了',\n",
    "                        'A': '我们产品不仅可以解决您封号的问题，还能极大提升销售和销售管理的效率；目前我们公司已合作了5万多家客户，还拿到了8千万的融资，产品的稳定性您可以放心。我们给您带来的不仅是稳定的外呼，拨打量翻倍一个人干两个人的活，还能严格的管理团队，让您团队业绩更好。并且在同等实力的公司里面，我们没有年费和开通门槛，1个坐席起卖；还有专门的销售专家团队，一起帮您提高销售效率；您可以免费试用一下我们的产品，看是否能帮到您；'})\n",
    "quality_qa_list.append({'Q': '为什么要收资料？怎么要这么多资料？别人家不需要收这么多资料？这么多资料太麻烦了',\n",
    "                        'A': '当前封号严重，就是因为国家在对外呼行业进行严格管控。要想不封号只有一条路径就是开通外呼专线，国家和运营商对开通外呼专线的基本要求是要提供企业资质，也就是企业要证明自己是合规合法的，例如营业执照、法人信息等企业资质。正规外呼专线都要求提供公司完整的资料，但凡不要求你提供的那都是假的，国家不可能允许，在合规的前提下我们公司所需要配合提供的资质是最少的；'})\n",
    "quality_qa_list.append({'Q': '你们是怎么做封号的? 防封的原理是什么？封号的机制是什么？',\n",
    "                        'A': '首先是高频拨打封号，其次是投诉举报，比如辱骂客户，长期拨打同号码，产生骚扰导致投诉。这两种情况都会封号。我们怎么解决的跟您说一下：首先用企业专用营销线路可以解决高频外呼封号，其次，投诉举报封号是工信部进行封号的，谁也解决不了。我们产品有电销卫士这个功能，可以帮您提前筛除各类风险号码，跳过该类号码拨打，从而降低投诉举报风险。'})\n",
    "\n",
    "quality_qa_list\n"
   ]
  },
  {
   "cell_type": "code",
   "execution_count": 3,
   "metadata": {},
   "outputs": [
    {
     "data": {
      "text/plain": [
       "'当前封号严重，就是因为国家在对外呼行业进行严格管控。要想不封号只有一条路径就是开通外呼专线，国家和运营商对开通外呼专线的基本要求是要提供企业资质，也就是企业要证明自己是合规合法的，例如营业执照、法人信息等企业资质。正规外呼专线都要求提供公司完整的资料，但凡不要求你提供的那都是假的，国家不可能允许，在合规的前提下我们公司所需要配合提供的资质是最少的；'"
      ]
     },
     "execution_count": 3,
     "metadata": {},
     "output_type": "execute_result"
    }
   ],
   "source": [
    "quality_qa_list[1]['A']"
   ]
  },
  {
   "cell_type": "code",
   "execution_count": 4,
   "metadata": {},
   "outputs": [
    {
     "data": {
      "text/html": [
       "<div>\n",
       "<style scoped>\n",
       "    .dataframe tbody tr th:only-of-type {\n",
       "        vertical-align: middle;\n",
       "    }\n",
       "\n",
       "    .dataframe tbody tr th {\n",
       "        vertical-align: top;\n",
       "    }\n",
       "\n",
       "    .dataframe thead th {\n",
       "        text-align: right;\n",
       "    }\n",
       "</style>\n",
       "<table border=\"1\" class=\"dataframe\">\n",
       "  <thead>\n",
       "    <tr style=\"text-align: right;\">\n",
       "      <th></th>\n",
       "      <th>Q</th>\n",
       "      <th>A</th>\n",
       "      <th>Q_embedding</th>\n",
       "    </tr>\n",
       "  </thead>\n",
       "  <tbody>\n",
       "    <tr>\n",
       "      <th>0</th>\n",
       "      <td>你这个比电话卡贵很多/太贵了/价格太高了</td>\n",
       "      <td>我们产品不仅可以解决您封号的问题，还能极大提升销售和销售管理的效率；目前我们公司已合作了5万...</td>\n",
       "      <td>[[0.07692516, 0.22091311, 0.7793291, 1.1053766...</td>\n",
       "    </tr>\n",
       "    <tr>\n",
       "      <th>1</th>\n",
       "      <td>为什么要收资料？怎么要这么多资料？别人家不需要收这么多资料？这么多资料太麻烦了</td>\n",
       "      <td>当前封号严重，就是因为国家在对外呼行业进行严格管控。要想不封号只有一条路径就是开通外呼专线，...</td>\n",
       "      <td>[[-0.47177145, 1.3111272, 1.2139087, 0.1688726...</td>\n",
       "    </tr>\n",
       "    <tr>\n",
       "      <th>2</th>\n",
       "      <td>你们是怎么做封号的? 防封的原理是什么？封号的机制是什么？</td>\n",
       "      <td>首先是高频拨打封号，其次是投诉举报，比如辱骂客户，长期拨打同号码，产生骚扰导致投诉。这两种情...</td>\n",
       "      <td>[[0.7234765, -0.12364538, 0.8468458, 0.3685846...</td>\n",
       "    </tr>\n",
       "  </tbody>\n",
       "</table>\n",
       "</div>"
      ],
      "text/plain": [
       "                                         Q  \\\n",
       "0                     你这个比电话卡贵很多/太贵了/价格太高了   \n",
       "1  为什么要收资料？怎么要这么多资料？别人家不需要收这么多资料？这么多资料太麻烦了   \n",
       "2            你们是怎么做封号的? 防封的原理是什么？封号的机制是什么？   \n",
       "\n",
       "                                                   A  \\\n",
       "0  我们产品不仅可以解决您封号的问题，还能极大提升销售和销售管理的效率；目前我们公司已合作了5万...   \n",
       "1  当前封号严重，就是因为国家在对外呼行业进行严格管控。要想不封号只有一条路径就是开通外呼专线，...   \n",
       "2  首先是高频拨打封号，其次是投诉举报，比如辱骂客户，长期拨打同号码，产生骚扰导致投诉。这两种情...   \n",
       "\n",
       "                                         Q_embedding  \n",
       "0  [[0.07692516, 0.22091311, 0.7793291, 1.1053766...  \n",
       "1  [[-0.47177145, 1.3111272, 1.2139087, 0.1688726...  \n",
       "2  [[0.7234765, -0.12364538, 0.8468458, 0.3685846...  "
      ]
     },
     "execution_count": 4,
     "metadata": {},
     "output_type": "execute_result"
    }
   ],
   "source": [
    "# 将quality_qa_list转化为dataframe\n",
    "quality_qa_df = pd.DataFrame(quality_qa_list)\n",
    "Q_embedding = []\n",
    "\n",
    "for i in range(quality_qa_df.shape[0]):\n",
    "    temp = []\n",
    "    # 将Q用'?'和'？'和'/'分割\n",
    "    for y in re.split(r'[?？/]', quality_qa_df['Q'][i]):\n",
    "        temp.append(t2v_model.encode(y))\n",
    "    # 将temp作为一个元素添加到Q_embedding中\n",
    "    Q_embedding.append(temp)\n",
    "\n",
    "quality_qa_df['Q_embedding'] = np.array(Q_embedding, dtype=object)\n",
    "\n",
    "quality_qa_df\n"
   ]
  },
  {
   "cell_type": "code",
   "execution_count": 5,
   "metadata": {},
   "outputs": [
    {
     "data": {
      "text/plain": [
       "0.56324834"
      ]
     },
     "execution_count": 5,
     "metadata": {},
     "output_type": "execute_result"
    }
   ],
   "source": [
    "np.max(cosine_similarity(np.array([quality_qa_df['Q_embedding'][1][1]]), quality_qa_df['Q_embedding'][0].tolist()))\n"
   ]
  },
  {
   "cell_type": "code",
   "execution_count": 6,
   "metadata": {},
   "outputs": [
    {
     "data": {
      "text/plain": [
       "array([[0.5632484]], dtype=float32)"
      ]
     },
     "execution_count": 6,
     "metadata": {},
     "output_type": "execute_result"
    }
   ],
   "source": [
    "cosine_similarity([t2v_model.encode('怎么要这么多资料')], [t2v_model.encode('价格太高了')])\n",
    "cosine_similarity(np.array([t2v_model.encode('怎么要这么多资料')]), np.array([t2v_model.encode('价格太高了')]))\n"
   ]
  },
  {
   "attachments": {},
   "cell_type": "markdown",
   "metadata": {},
   "source": [
    "## handle the raw data procession"
   ]
  },
  {
   "cell_type": "code",
   "execution_count": null,
   "metadata": {},
   "outputs": [],
   "source": [
    "raw_data = pd.read_csv(\"data/raw_data.csv\")\n",
    "\n",
    "conversation_data = pd.DataFrame(columns=['id', '对话内容'])\n",
    "# 遍历raw_data，将同一id的对话内容合并\n",
    "for i in tqdm(range(raw_data.shape[0])):\n",
    "    if i == 0:\n",
    "        conversation_data.loc[0] = [\n",
    "            raw_data.loc[i, '文件名'], raw_data.loc[i, '对话内容']]\n",
    "    elif raw_data.loc[i-1, '对话内容'] is not np.nan:\n",
    "        if raw_data.loc[i, '对话内容'] is not np.nan:\n",
    "            conversation_data.loc[conversation_data.shape[0]-1, '对话内容'] = conversation_data.loc[conversation_data.shape[0] -\n",
    "                                                                                                1, '对话内容'] + '\\n' + raw_data.loc[i, '对话内容']\n",
    "        else:\n",
    "            pass\n",
    "    else:\n",
    "        conversation_data.loc[conversation_data.shape[0]] = [\n",
    "            raw_data.loc[i, '文件名'], raw_data.loc[i, '对话内容']]\n",
    "\n",
    "conversation_data.drop(columns=['id'], inplace=True)\n",
    "conversation_data = conversation_data[1:]\n",
    "conversation_data.reset_index(drop=True, inplace=True)\n",
    "\n",
    "for i in tqdm(range(conversation_data.shape[0])):\n",
    "    if pd.isnull(conversation_data.loc[i, '对话内容']) is False:\n",
    "        conversation_data.loc[i, '对话内容'] = conversation_data.loc[i, '对话内容'].replace(\n",
    "            '?', '\\n').replace('？', '\\n').replace('。', '\\n')\n",
    "\n",
    "conversation_data"
   ]
  },
  {
   "cell_type": "code",
   "execution_count": null,
   "metadata": {},
   "outputs": [],
   "source": [
    "label_list = []\n",
    "\n",
    "for sentence in tqdm(re.split(r'\\n', conversation_data.loc[21771, '对话内容'])):\n",
    "    # 如果sentence长度大于等于2\n",
    "    if len(sentence) >= 2:\n",
    "        temp_embedding = t2v_model.encode(sentence)\n",
    "        # 判断temp_embedding和Q_embedding的相似度\n",
    "        for i in range(quality_qa_df.shape[0]):\n",
    "            if np.max(cosine_similarity([temp_embedding], quality_qa_df.loc[i, 'Q_embedding'])) > 0.8:\n",
    "                print(sentence)\n",
    "                print(i)\n",
    "\n",
    "label_list\n"
   ]
  },
  {
   "cell_type": "code",
   "execution_count": null,
   "metadata": {},
   "outputs": [],
   "source": [
    "re.split(r'\\n', conversation_data.loc[21771, '对话内容'])"
   ]
  },
  {
   "attachments": {},
   "cell_type": "markdown",
   "metadata": {},
   "source": [
    "## new data"
   ]
  },
  {
   "cell_type": "code",
   "execution_count": 9,
   "metadata": {},
   "outputs": [
    {
     "data": {
      "text/html": [
       "<div>\n",
       "<style scoped>\n",
       "    .dataframe tbody tr th:only-of-type {\n",
       "        vertical-align: middle;\n",
       "    }\n",
       "\n",
       "    .dataframe tbody tr th {\n",
       "        vertical-align: top;\n",
       "    }\n",
       "\n",
       "    .dataframe thead th {\n",
       "        text-align: right;\n",
       "    }\n",
       "</style>\n",
       "<table border=\"1\" class=\"dataframe\">\n",
       "  <thead>\n",
       "    <tr style=\"text-align: right;\">\n",
       "      <th></th>\n",
       "      <th>question</th>\n",
       "      <th>answer</th>\n",
       "    </tr>\n",
       "  </thead>\n",
       "  <tbody>\n",
       "    <tr>\n",
       "      <th>0</th>\n",
       "      <td>什么系统啊？不知道</td>\n",
       "      <td>[啊，您这边有电销的业务吗？, 嗯，电话销售啊。]</td>\n",
       "    </tr>\n",
       "    <tr>\n",
       "      <th>1</th>\n",
       "      <td>我我不知道你什么呢？</td>\n",
       "      <td>[噢，销售保外呼系统的就是防电话封号的，您还有印象吗？现在还需要吗？, 嗯，好，那打扰您了哈...</td>\n",
       "    </tr>\n",
       "    <tr>\n",
       "      <th>2</th>\n",
       "      <td>啊？不需要不需要。</td>\n",
       "      <td>[嗯，好，那打扰您了哈，再见！]</td>\n",
       "    </tr>\n",
       "    <tr>\n",
       "      <th>3</th>\n",
       "      <td>喂？</td>\n",
       "      <td>[唉喂，你好，, 唉，你好，我这边是一辆科技的客户经理，然后我们这边是做这个外呼防封号系统的...</td>\n",
       "    </tr>\n",
       "    <tr>\n",
       "      <th>4</th>\n",
       "      <td>哪里？</td>\n",
       "      <td>[唉，你好，我这边是一辆科技的客户经理，然后我们这边是做这个外呼防封号系统的，然后，然后。]</td>\n",
       "    </tr>\n",
       "    <tr>\n",
       "      <th>...</th>\n",
       "      <td>...</td>\n",
       "      <td>...</td>\n",
       "    </tr>\n",
       "    <tr>\n",
       "      <th>11984</th>\n",
       "      <td>啊？没有了，不需要了</td>\n",
       "      <td>[呃，是已经找到了合适的机构还是怎么？, 噢，好的好的，那打扰您了啊嗯。]</td>\n",
       "    </tr>\n",
       "    <tr>\n",
       "      <th>11985</th>\n",
       "      <td>啊？不用了不用了</td>\n",
       "      <td>[噢，好的好的，那打扰您了啊嗯。]</td>\n",
       "    </tr>\n",
       "    <tr>\n",
       "      <th>11986</th>\n",
       "      <td>OK？</td>\n",
       "      <td>[]</td>\n",
       "    </tr>\n",
       "    <tr>\n",
       "      <th>11987</th>\n",
       "      <td>嗯嗯，现在我们暂时都没有在弄，你加我微信吧，好吧？好</td>\n",
       "      <td>[好，行行，我可以加一下您微信，您如果说您后期如果那个手机电话卡确实因为封号了，您可以联系我...</td>\n",
       "    </tr>\n",
       "    <tr>\n",
       "      <th>11988</th>\n",
       "      <td>唉，干什么呢？</td>\n",
       "      <td>[嗯，你好，老板, 嗯，是这样，我们这是做这个玻璃钢环保设备的厂家，这看看您那个专场现在需要...</td>\n",
       "    </tr>\n",
       "  </tbody>\n",
       "</table>\n",
       "<p>11989 rows × 2 columns</p>\n",
       "</div>"
      ],
      "text/plain": [
       "                         question  \\\n",
       "0                       什么系统啊？不知道   \n",
       "1                      我我不知道你什么呢？   \n",
       "2                       啊？不需要不需要。   \n",
       "3                              喂？   \n",
       "4                             哪里？   \n",
       "...                           ...   \n",
       "11984                  啊？没有了，不需要了   \n",
       "11985                    啊？不用了不用了   \n",
       "11986                         OK？   \n",
       "11987  嗯嗯，现在我们暂时都没有在弄，你加我微信吧，好吧？好   \n",
       "11988                     唉，干什么呢？   \n",
       "\n",
       "                                                  answer  \n",
       "0                              [啊，您这边有电销的业务吗？, 嗯，电话销售啊。]  \n",
       "1      [噢，销售保外呼系统的就是防电话封号的，您还有印象吗？现在还需要吗？, 嗯，好，那打扰您了哈...  \n",
       "2                                       [嗯，好，那打扰您了哈，再见！]  \n",
       "3      [唉喂，你好，, 唉，你好，我这边是一辆科技的客户经理，然后我们这边是做这个外呼防封号系统的...  \n",
       "4         [唉，你好，我这边是一辆科技的客户经理，然后我们这边是做这个外呼防封号系统的，然后，然后。]  \n",
       "...                                                  ...  \n",
       "11984              [呃，是已经找到了合适的机构还是怎么？, 噢，好的好的，那打扰您了啊嗯。]  \n",
       "11985                                  [噢，好的好的，那打扰您了啊嗯。]  \n",
       "11986                                                 []  \n",
       "11987  [好，行行，我可以加一下您微信，您如果说您后期如果那个手机电话卡确实因为封号了，您可以联系我...  \n",
       "11988  [嗯，你好，老板, 嗯，是这样，我们这是做这个玻璃钢环保设备的厂家，这看看您那个专场现在需要...  \n",
       "\n",
       "[11989 rows x 2 columns]"
      ]
     },
     "execution_count": 9,
     "metadata": {},
     "output_type": "execute_result"
    }
   ],
   "source": [
    "import json\n",
    "\n",
    "with open('data/qa_data.json', 'r', encoding='utf-8') as f:\n",
    "    qa_list = json.load(f)\n",
    "\n",
    "# 将qa_list转化为dataframe\n",
    "qa_df = pd.DataFrame(qa_list)\n",
    "qa_df\n"
   ]
  },
  {
   "cell_type": "code",
   "execution_count": 10,
   "metadata": {},
   "outputs": [
    {
     "data": {
      "application/vnd.jupyter.widget-view+json": {
       "model_id": "980342e280cc4fed86cc093bfa126a79",
       "version_major": 2,
       "version_minor": 0
      },
      "text/plain": [
       "  0%|          | 0/11989 [00:00<?, ?it/s]"
      ]
     },
     "metadata": {},
     "output_type": "display_data"
    }
   ],
   "source": [
    "# 新增一列，定义该列均为list，用于存储该问题是否与质检问题相似\n",
    "qa_df['mentioned'] = [[] for i in range(qa_df.shape[0])]\n",
    "\n",
    "for i in tqdm(range(qa_df.shape[0])):\n",
    "    temp_embedding = t2v_model.encode(qa_df.loc[i, 'question'])\n",
    "    # 判断temp_embedding和Q_embedding的相似度\n",
    "    for y in range(quality_qa_df.shape[0]):\n",
    "        if np.max(cosine_similarity([temp_embedding], quality_qa_df.loc[y, 'Q_embedding'])) > 0.8:\n",
    "            qa_df.loc[i, 'mentioned'].append(y)\n",
    "            break"
   ]
  },
  {
   "cell_type": "code",
   "execution_count": 16,
   "metadata": {},
   "outputs": [],
   "source": [
    "qa_df[qa_df['mentioned'].apply(lambda x: len(x)) > 0].to_csv(\n",
    "    'data/temp_for_gpt_test.csv', index=False)"
   ]
  }
 ],
 "metadata": {
  "kernelspec": {
   "display_name": "base",
   "language": "python",
   "name": "python3"
  },
  "language_info": {
   "codemirror_mode": {
    "name": "ipython",
    "version": 3
   },
   "file_extension": ".py",
   "mimetype": "text/x-python",
   "name": "python",
   "nbconvert_exporter": "python",
   "pygments_lexer": "ipython3",
   "version": "3.9.7"
  },
  "orig_nbformat": 4
 },
 "nbformat": 4,
 "nbformat_minor": 2
}
