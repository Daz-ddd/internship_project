{
 "cells": [
  {
   "cell_type": "code",
   "execution_count": null,
   "metadata": {},
   "outputs": [],
   "source": [
    "import pandas as pd\n",
    "import numpy as np\n",
    "import json\n",
    "from tqdm import tqdm\n"
   ]
  },
  {
   "cell_type": "code",
   "execution_count": null,
   "metadata": {},
   "outputs": [],
   "source": [
    "# 读取txt文件\n",
    "with open('data/data20230508185123.txt', 'r', encoding='utf-8') as f:\n",
    "    raw_data = f.readlines()\n",
    "\n",
    "conversation_list = []\n",
    "conversation_dict = {'conversation_id': None, 'conversation': []}\n",
    "sentence_dict = {'role': None, 'sentence': None}\n",
    "# conversation_dict = {}\n",
    "# sentence_dict = {}\n",
    "\n",
    "for line in raw_data:\n",
    "    if line.startswith('通话id'):\n",
    "        conversation_list.append(conversation_dict)\n",
    "        conversation_dict = {'conversation_id': None, 'conversation': []}\n",
    "        # conversation_dict = {}\n",
    "        conversation_dict['conversation_id'] = line.split(':')[1].strip()\n",
    "    else:\n",
    "        sentence_dict['role'] = line.split(':')[0].strip()\n",
    "        sentence_dict['sentence'] = line.split(':')[1].strip()\n",
    "        conversation_dict['conversation'].append(sentence_dict)\n",
    "        sentence_dict = {'role': None, 'sentence': None}\n",
    "\n",
    "\n",
    "conversation_list = conversation_list[1:]\n",
    "conversation_list"
   ]
  },
  {
   "cell_type": "code",
   "execution_count": 16,
   "metadata": {},
   "outputs": [],
   "source": [
    "import json\n",
    "\n",
    "with open('data/conversations.json', 'w', encoding='utf-8') as f:\n",
    "    json.dump(conversation_list, f, ensure_ascii=False)\n"
   ]
  },
  {
   "cell_type": "code",
   "execution_count": 17,
   "metadata": {},
   "outputs": [],
   "source": [
    "qa_list = []\n",
    "qa_dict = {}\n",
    "\n",
    "for conversation in conversation_list:\n",
    "    for i in range(len(conversation['conversation'])):\n",
    "        if ('?' in conversation['conversation'][i]['sentence'] or '？' in conversation['conversation'][i]['sentence']) and (conversation['conversation'][i]['role'] == '客户'):\n",
    "            qa_dict['question'] = conversation['conversation'][i]['sentence']\n",
    "            start_idx = i\n",
    "            qa_dict['answer'] = [(conversation['conversation'][start_idx + j]['sentence'])\n",
    "                                 for j in range(5) if (start_idx + j < len(conversation['conversation'])) and (conversation['conversation'][start_idx + j]['role'] == '客服')]\n",
    "            qa_list.append(qa_dict)\n",
    "            qa_dict = {}\n"
   ]
  },
  {
   "cell_type": "code",
   "execution_count": 20,
   "metadata": {},
   "outputs": [],
   "source": [
    "with open('data/qa_data.json', 'w', encoding='utf-8') as f:\n",
    "    json.dump(qa_list, f, ensure_ascii=False)"
   ]
  }
 ],
 "metadata": {
  "kernelspec": {
   "display_name": "base",
   "language": "python",
   "name": "python3"
  },
  "language_info": {
   "codemirror_mode": {
    "name": "ipython",
    "version": 3
   },
   "file_extension": ".py",
   "mimetype": "text/x-python",
   "name": "python",
   "nbconvert_exporter": "python",
   "pygments_lexer": "ipython3",
   "version": "3.9.7"
  },
  "orig_nbformat": 4
 },
 "nbformat": 4,
 "nbformat_minor": 2
}
