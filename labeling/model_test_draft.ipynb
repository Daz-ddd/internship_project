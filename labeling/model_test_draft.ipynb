{
 "cells": [
  {
   "attachments": {},
   "cell_type": "markdown",
   "metadata": {},
   "source": [
    "### pipeline"
   ]
  },
  {
   "cell_type": "code",
   "execution_count": 1,
   "metadata": {},
   "outputs": [],
   "source": [
    "from transformers import pipeline\n",
    "\n",
    "import warnings\n",
    "import time\n",
    "\n",
    "warnings.filterwarnings('ignore')\n",
    "\n",
    "access_token = ''"
   ]
  },
  {
   "cell_type": "code",
   "execution_count": 3,
   "metadata": {},
   "outputs": [],
   "source": [
    "# Load the model\n",
    "classifier = pipeline('zero-shot-classification',\n",
    "                      model='./model', device = 0)\n",
    "\n",
    "# max_memory = {0: \"1600MiB\", \"cpu\": \"2GiB\"}"
   ]
  },
  {
   "cell_type": "code",
   "execution_count": 9,
   "metadata": {},
   "outputs": [],
   "source": [
    "labels = ['男生', '女生', '未知']\n",
    "example = [r'问：{你是男生吗}，答：{不是}' for i in range(6)]\n",
    "# example = [r'你是男生吗,不是' for i in range(1)]\n"
   ]
  },
  {
   "cell_type": "code",
   "execution_count": 10,
   "metadata": {},
   "outputs": [
    {
     "data": {
      "text/plain": [
       "[{'sequence': '问：{你是男生吗}，答：{不是}',\n",
       "  'labels': ['未知', '女生', '男生'],\n",
       "  'scores': [0.9697513580322266, 0.026069799438118935, 0.01181736495345831]},\n",
       " {'sequence': '问：{你是男生吗}，答：{不是}',\n",
       "  'labels': ['未知', '女生', '男生'],\n",
       "  'scores': [0.9697513580322266, 0.026069799438118935, 0.01181736495345831]},\n",
       " {'sequence': '问：{你是男生吗}，答：{不是}',\n",
       "  'labels': ['未知', '女生', '男生'],\n",
       "  'scores': [0.9697513580322266, 0.026069799438118935, 0.01181736495345831]},\n",
       " {'sequence': '问：{你是男生吗}，答：{不是}',\n",
       "  'labels': ['未知', '女生', '男生'],\n",
       "  'scores': [0.9697513580322266, 0.026069799438118935, 0.01181736495345831]},\n",
       " {'sequence': '问：{你是男生吗}，答：{不是}',\n",
       "  'labels': ['未知', '女生', '男生'],\n",
       "  'scores': [0.9697513580322266, 0.026069799438118935, 0.01181736495345831]},\n",
       " {'sequence': '问：{你是男生吗}，答：{不是}',\n",
       "  'labels': ['未知', '女生', '男生'],\n",
       "  'scores': [0.9697513580322266, 0.026069799438118935, 0.01181736495345831]}]"
      ]
     },
     "execution_count": 10,
     "metadata": {},
     "output_type": "execute_result"
    }
   ],
   "source": [
    "classifier(example, labels, multi_label=True, batch_size= 20)"
   ]
  },
  {
   "cell_type": "code",
   "execution_count": 5,
   "metadata": {},
   "outputs": [
    {
     "name": "stderr",
     "output_type": "stream",
     "text": [
      "100%|██████████| 100/100 [00:07<00:00, 13.10it/s]"
     ]
    },
    {
     "name": "stdout",
     "output_type": "stream",
     "text": [
      "Time cost:  7.636873960494995\n"
     ]
    },
    {
     "name": "stderr",
     "output_type": "stream",
     "text": [
      "\n"
     ]
    }
   ],
   "source": [
    "start_time = time.time()\n",
    "output = classifier(example, labels, multi_label=True)\n",
    "end_time = time.time()\n",
    "print('Time cost: ', end_time - start_time)"
   ]
  },
  {
   "cell_type": "code",
   "execution_count": 12,
   "metadata": {},
   "outputs": [
    {
     "name": "stdout",
     "output_type": "stream",
     "text": [
      "Time cost:  75.62801313400269\n"
     ]
    }
   ],
   "source": [
    "import torch\n",
    "\n",
    "# 限制CPU使用进程数\n",
    "# torch.set_num_threads(2)\n",
    "\n",
    "start_time = time.time()\n",
    "output = classifier_cpu(example, labels, multi_label=True)\n",
    "end_time = time.time()\n",
    "print('Time cost: ', end_time - start_time)"
   ]
  },
  {
   "cell_type": "code",
   "execution_count": 14,
   "metadata": {},
   "outputs": [
    {
     "data": {
      "text/plain": [
       "[{'sequence': '你们这边是怎么收费的培训',\n",
       "  'labels': ['价格', '收费', '20', '10块钱'],\n",
       "  'scores': [0.9958784580230713,\n",
       "   0.9952981472015381,\n",
       "   0.3910912573337555,\n",
       "   0.31309613585472107]},\n",
       " {'sequence': '你们主要是怎么收费呢',\n",
       "  'labels': ['价格', '收费', '10块钱', '20'],\n",
       "  'scores': [0.9871610403060913,\n",
       "   0.9657820463180542,\n",
       "   0.5289880633354187,\n",
       "   0.48929357528686523]}]"
      ]
     },
     "execution_count": 14,
     "metadata": {},
     "output_type": "execute_result"
    }
   ],
   "source": [
    "output"
   ]
  },
  {
   "cell_type": "code",
   "execution_count": null,
   "metadata": {},
   "outputs": [],
   "source": [
    "classifier_cpu.preprocess(example, labels)\n"
   ]
  },
  {
   "attachments": {},
   "cell_type": "markdown",
   "metadata": {},
   "source": [
    "### inference api"
   ]
  },
  {
   "cell_type": "code",
   "execution_count": 8,
   "metadata": {},
   "outputs": [],
   "source": [
    "model_name = ['joeddav/xlm-roberta-large-xnli', 'facebook/bart-large-mnli',\n",
    "              'vicgalle/xlm-roberta-large-xnli-anli', 'IDEA-CCNL/Taiyi-Diffusion-532M-Nature-Chinese']\n"
   ]
  },
  {
   "cell_type": "code",
   "execution_count": 9,
   "metadata": {},
   "outputs": [
    {
     "data": {
      "text/plain": [
       "{'error': 'Model IDEA-CCNL/Taiyi-Diffusion-532M-Nature-Chinese is currently loading',\n",
       " 'estimated_time': 20.0}"
      ]
     },
     "execution_count": 9,
     "metadata": {},
     "output_type": "execute_result"
    }
   ],
   "source": [
    "import requests\n",
    "\n",
    "API_URL = f\"https://api-inference.huggingface.co/models/IDEA-CCNL/Taiyi-Diffusion-532M-Nature-Chinese\"\n",
    "headers = {\"Authorization\": f\"Bearer {access_token}\"}\n",
    "\n",
    "\n",
    "def query(payload):\n",
    "    response = requests.post(API_URL, headers=headers, json=payload)\n",
    "    return response.json()\n",
    "\n",
    "\n",
    "# output = query({\n",
    "#     \"inputs\": example,\n",
    "#     \"parameters\": {\"candidate_labels\": labels},\n",
    "# })\n",
    "\n",
    "output = query({\n",
    "    \"inputs\": '小猫',\n",
    "    'model_type': 'text2img'\n",
    "})\n",
    "\n",
    "output\n"
   ]
  },
  {
   "cell_type": "code",
   "execution_count": 10,
   "metadata": {},
   "outputs": [],
   "source": [
    "import requests\n",
    "\n",
    "import io\n",
    "from PIL import Image\n",
    "\n",
    "API_URL = \"https://api-inference.huggingface.co/models/IDEA-CCNL/Taiyi-Stable-Diffusion-1B-Chinese-v0.1\"\n",
    "headers = {\"Authorization\": f\"Bearer {access_token}\"}\n",
    "\n",
    "def query(payload):\n",
    "\tresponse = requests.post(API_URL, headers=headers, json=payload)\n",
    "\treturn response.content\n"
   ]
  },
  {
   "cell_type": "code",
   "execution_count": null,
   "metadata": {},
   "outputs": [],
   "source": [
    "image_bytes = query({\n",
    "    \"inputs\": \"那人却在灯火阑珊处，色彩艳丽，古风，资深插画师作品，桌面高清壁纸。\",\n",
    "})\n",
    "# You can access the image with PIL.Image for example\n",
    "image = Image.open(io.BytesIO(image_bytes))\n",
    "image\n"
   ]
  },
  {
   "attachments": {},
   "cell_type": "markdown",
   "metadata": {},
   "source": [
    "### data test"
   ]
  },
  {
   "cell_type": "code",
   "execution_count": 10,
   "metadata": {},
   "outputs": [
    {
     "data": {
      "text/plain": [
       "{'clueId': 123456,\n",
       " 'tagGroup': {'groupId': 123,\n",
       "  'tagList': [{'tagId': 1, 'tagName': '1节课'},\n",
       "   {'tagId': 2, 'tagName': '2节课'},\n",
       "   {'tagId': 3, 'tagName': '3节课'},\n",
       "   {'tagId': 4, 'tagName': '4节课'},\n",
       "   {'tagId': 5, 'tagName': '5节课'}],\n",
       "  'hitWord': [{'role': '销售', 'word': '今天有个5节,哦不是，是4节，的编程特惠课给到孩子'},\n",
       "   {'role': '销售', 'word': '明天有个4节的编程特惠课给到孩子'}]}}"
      ]
     },
     "execution_count": 10,
     "metadata": {},
     "output_type": "execute_result"
    }
   ],
   "source": [
    "data = '''\n",
    "{\"clueId\":123456,\"tagGroup\":{\"groupId\":123,\"tagList\":[{\"tagId\":1,\"tagName\":\"1节课\"},{\"tagId\":2,\"tagName\":\"2节课\"},{\"tagId\":3,\"tagName\":\"3节课\"},{\"tagId\":4,\"tagName\":\"4节课\"},{\"tagId\":5,\"tagName\":\"5节课\"}],\n",
    "\"hitWord\":[{\"role\":\"销售\",\"word\":\"今天有个5节,哦不是，是4节，的编程特惠课给到孩子\"},{\"role\":\"销售\",\"word\":\"明天有个4节的编程特惠课给到孩子\"}]}}\n",
    "'''\n",
    "data = eval(data)\n",
    "data"
   ]
  },
  {
   "cell_type": "code",
   "execution_count": 11,
   "metadata": {},
   "outputs": [],
   "source": [
    "# 提取data中的tagNames\n",
    "tags = [tag['tagName'] for tag in data['tagGroup']['tagList']]\n",
    "# 提取data中的hitWord\n",
    "text = [hit['word'] for hit in data['tagGroup']['hitWord']]"
   ]
  },
  {
   "cell_type": "code",
   "execution_count": 12,
   "metadata": {},
   "outputs": [],
   "source": [
    "output = classifier(text, tags, multi_label=True)"
   ]
  },
  {
   "cell_type": "code",
   "execution_count": 13,
   "metadata": {},
   "outputs": [
    {
     "data": {
      "text/plain": [
       "[{'sequence': '今天有个5节,哦不是，是4节，的编程特惠课给到孩子',\n",
       "  'labels': ['4节课', '5节课', '2节课', '3节课', '1节课'],\n",
       "  'scores': [0.9963747262954712,\n",
       "   0.9921731948852539,\n",
       "   0.033191222697496414,\n",
       "   0.014439600519835949,\n",
       "   0.0033554418478161097]},\n",
       " {'sequence': '明天有个4节的编程特惠课给到孩子',\n",
       "  'labels': ['4节课', '5节课', '3节课', '1节课', '2节课'],\n",
       "  'scores': [0.9956560730934143,\n",
       "   0.003281186567619443,\n",
       "   0.00272810528986156,\n",
       "   0.0012587214587256312,\n",
       "   0.0010988261783495545]}]"
      ]
     },
     "execution_count": 13,
     "metadata": {},
     "output_type": "execute_result"
    }
   ],
   "source": [
    "output"
   ]
  },
  {
   "cell_type": "code",
   "execution_count": 14,
   "metadata": {},
   "outputs": [],
   "source": [
    "label_id = []\n",
    "# 返回每个sequence的最大概率的label所对应的ID\n",
    "for item in output:\n",
    "    matched_labels = item['labels'][0]\n",
    "    # 查找label在tagList对应的ID\n",
    "    for tag in data['tagGroup']['tagList']:\n",
    "        if tag['tagName'] == matched_labels:\n",
    "            label_id.append(tag['tagId'])\n",
    "            break\n"
   ]
  },
  {
   "cell_type": "code",
   "execution_count": 15,
   "metadata": {},
   "outputs": [
    {
     "data": {
      "text/plain": [
       "[4, 4]"
      ]
     },
     "execution_count": 15,
     "metadata": {},
     "output_type": "execute_result"
    }
   ],
   "source": [
    "label_id"
   ]
  }
 ],
 "metadata": {
  "kernelspec": {
   "display_name": "base",
   "language": "python",
   "name": "python3"
  },
  "language_info": {
   "codemirror_mode": {
    "name": "ipython",
    "version": 3
   },
   "file_extension": ".py",
   "mimetype": "text/x-python",
   "name": "python",
   "nbconvert_exporter": "python",
   "pygments_lexer": "ipython3",
   "version": "3.9.7"
  },
  "orig_nbformat": 4
 },
 "nbformat": 4,
 "nbformat_minor": 2
}
