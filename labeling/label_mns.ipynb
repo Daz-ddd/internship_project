{
 "cells": [
  {
   "cell_type": "code",
   "execution_count": 1,
   "metadata": {},
   "outputs": [
    {
     "data": {
      "text/plain": [
       "['sample.cfg']"
      ]
     },
     "execution_count": 1,
     "metadata": {},
     "output_type": "execute_result"
    }
   ],
   "source": [
    "import sys\n",
    "import time\n",
    "import json\n",
    "from mns.account import Account\n",
    "from mns.queue import *\n",
    "from mns.topic import *\n",
    "from mns.subscription import *\n",
    "import configparser as ConfigParser\n",
    "\n",
    "\n",
    "cfgFN = \"sample.cfg\"\n",
    "required_ops = [(\"Base\", \"AccessKeyId\"),\n",
    "                (\"Base\", \"AccessKeySecret\"), (\"Base\", \"Endpoint\")]\n",
    "optional_ops = [(\"Optional\", \"SecurityToken\")]\n",
    "\n",
    "parser = ConfigParser.ConfigParser()\n",
    "parser.read(cfgFN)\n"
   ]
  },
  {
   "cell_type": "code",
   "execution_count": 9,
   "metadata": {},
   "outputs": [],
   "source": [
    "# 定义错误类型，分为消息获取错误、消息发送错误、删除错误、修改错误\n",
    "class MNSMessageRetrieveException(Exception):\n",
    "    pass\n",
    "\n",
    "class MNSMessageSendException(Exception):\n",
    "    pass\n",
    "\n",
    "class MNSMessageDeleteException(Exception):\n",
    "    pass\n",
    "\n",
    "class MNSMessageModifyException(Exception):\n",
    "    pass\n",
    "\n"
   ]
  },
  {
   "cell_type": "code",
   "execution_count": 2,
   "metadata": {},
   "outputs": [],
   "source": [
    "accessKeyId = parser.get(\"Base\", \"AccessKeyId\")\n",
    "accessKeySecret = parser.get(\"Base\", \"AccessKeySecret\")\n",
    "endpoint = parser.get(\"Base\", \"Endpoint\")\n",
    "securityToken = \"\"\n",
    "if parser.has_option(\"Optional\", \"SecurityToken\") and parser.get(\"Optional\", \"SecurityToken\") != \"$SecurityToken\":\n",
    "    securityToken = parser.get(\"Optional\", \"SecurityToken\")\n",
    "\n",
    "# 初始化my_account\n",
    "my_account = Account(endpoint, accessKeyId, accessKeySecret, securityToken)\n"
   ]
  },
  {
   "cell_type": "code",
   "execution_count": 3,
   "metadata": {},
   "outputs": [
    {
     "name": "stderr",
     "output_type": "stream",
     "text": [
      "/home/zhouyunmeng/software/Anaconda3/lib/python3.9/site-packages/scipy/__init__.py:146: UserWarning: A NumPy version >=1.16.5 and <1.23.0 is required for this version of SciPy (detected version 1.24.3\n",
      "  warnings.warn(f\"A NumPy version >={np_minversion} and <{np_maxversion}\"\n"
     ]
    }
   ],
   "source": [
    "import warnings\n",
    "\n",
    "from transformers import pipeline\n",
    "\n",
    "warnings.filterwarnings(\"ignore\")\n",
    "\n",
    "# Load the model\n",
    "classifier = pipeline(\"zero-shot-classification\", model=\"./model\", device=0)\n",
    "\n",
    "def classify_text(classifier, text, labels):\n",
    "    return classifier(\n",
    "        text,\n",
    "        labels,\n",
    "        multi_label=True\n",
    "    )"
   ]
  },
  {
   "cell_type": "code",
   "execution_count": 4,
   "metadata": {},
   "outputs": [],
   "source": [
    "receive_queue = my_account.get_queue(queue_name='python-label-task')\n"
   ]
  },
  {
   "cell_type": "code",
   "execution_count": 6,
   "metadata": {},
   "outputs": [],
   "source": [
    "msg = receive_queue.receive_message(wait_seconds=3)"
   ]
  },
  {
   "cell_type": "code",
   "execution_count": 8,
   "metadata": {},
   "outputs": [
    {
     "data": {
      "text/plain": [
       "{'active': 'local',\n",
       " 'clueId': 123456,\n",
       " 'tagGroup': [{'groupId': 123,\n",
       "   'tagList': [{'tagId': 1, 'tagName': '1节课'},\n",
       "    {'tagId': 2, 'tagName': '2节课'},\n",
       "    {'tagId': 3, 'tagName': '3节课'},\n",
       "    {'tagId': 4, 'tagName': '4节课'},\n",
       "    {'tagId': 5, 'tagName': '5节课'}],\n",
       "   'hitWord': [{'role': '销售', 'word': '今天有个5节,哦不是，是9节，的编程特惠课给到孩子'},\n",
       "    {'role': '销售', 'word': '明天有个4节的编程特惠课给到孩子'}]},\n",
       "  {'groupId': 123,\n",
       "   'tagList': [{'tagId': 1, 'tagName': '1节课'},\n",
       "    {'tagId': 2, 'tagName': '2节课'},\n",
       "    {'tagId': 3, 'tagName': '3节课'},\n",
       "    {'tagId': 4, 'tagName': '4节课'},\n",
       "    {'tagId': 5, 'tagName': '5节课'}],\n",
       "   'hitWord': [{'role': '销售', 'word': '今天有个5节,哦不是，是9节，的编程特惠课给到孩子'},\n",
       "    {'role': '销售', 'word': '明天有个4节的编程特惠课给到孩子'}]}]}"
      ]
     },
     "execution_count": 8,
     "metadata": {},
     "output_type": "execute_result"
    }
   ],
   "source": [
    "eval(msg.message_body)"
   ]
  },
  {
   "cell_type": "code",
   "execution_count": null,
   "metadata": {},
   "outputs": [],
   "source": [
    "def receive_raw_messages(receive_queue):\n",
    "    wait_seconds = 3\n",
    "    try:\n",
    "        recv_msg = receive_queue.receive_message(wait_seconds)\n",
    "        return recv_msg\n",
    "    except MNSExceptionBase as e:\n",
    "        if e.type == \"QueueNotExist\":\n",
    "            print(\"Queue not exist, please create queue before receive message.\")\n",
    "        elif e.type == \"MessageNotExist\":\n",
    "            print(\"Queue is empty!\")\n",
    "        \n",
    "        # 返回消息接收错误\n",
    "        raise MNSMessageRetrieveException(\"Message retrieve error\")\n",
    "\n"
   ]
  },
  {
   "cell_type": "code",
   "execution_count": 64,
   "metadata": {},
   "outputs": [],
   "source": [
    "def process_raw_messages(message):\n",
    "    try:\n",
    "        # Extract the JSON data from the message body\n",
    "        message_body = json.loads(message.message_body)\n",
    "\n",
    "        activeEnv = message_body['active']\n",
    "        clueId = message_body['clueId']\n",
    "\n",
    "        # extract tagNames from data\n",
    "        tags = [[tag[\"tagName\"] for tag in i[\"tagList\"]]\n",
    "                for i in message_body['tagGroup']]\n",
    "        # extract hitWord from data\n",
    "        text = [[hit[\"word\"] for hit in i[\"hitWord\"]]\n",
    "                for i in message_body['tagGroup']]\n",
    "\n",
    "        output = [classify_text(classifier, text[i], tags[i])\n",
    "                  for i in range(len(tags))]\n",
    "        tagId = []\n",
    "        # return the ID corresponding to the label of the maximum probability of each sequence\n",
    "        for tagIter, items in enumerate(output):\n",
    "            for item in items:\n",
    "                matched_tags = item[\"labels\"][0]\n",
    "                # query the ID corresponding to the label in the tagList\n",
    "                for tag in message_body['tagGroup'][tagIter][\"tagList\"]:\n",
    "                    if tag[\"tagName\"] == matched_tags:\n",
    "                        tagId.append(tag[\"tagId\"])\n",
    "                        break\n",
    "        return [activeEnv, clueId, tagId]\n",
    "    except Exception as e:\n",
    "        print(e)\n",
    "        # 返回消息处理错误\n",
    "        raise MNSMessageModifyException(\"Message modify error\")\n"
   ]
  },
  {
   "cell_type": "code",
   "execution_count": null,
   "metadata": {},
   "outputs": [],
   "source": [
    "# 发送返回队列消息\n",
    "def send_back_processed_messages(queue_name, clueId, tagId):\n",
    "    try:\n",
    "        # 初始化my_queue\n",
    "        my_queue = my_account.get_queue(queue_name=queue_name)\n",
    "\n",
    "        # 构造返回数据\n",
    "        body = {\n",
    "            \"clueId\": clueId,\n",
    "            \"tagId\": tagId\n",
    "        }\n",
    "\n",
    "        # 发送返回数据\n",
    "        msg_body = json.dumps(body)\n",
    "        msg_tag = \"test\"\n",
    "        msg = Message(msg_body)\n",
    "\n",
    "        # 发送消息到my_queue\n",
    "        msg = Message()\n",
    "        msg.message_body = json.dumps(tagId)\n",
    "\n",
    "        re_msg = my_queue.send_message(msg)\n",
    "        print(\"Send Message Succeed! ReceiptHandle:%s MessageBody:%s MessageID:%s\" %\n",
    "              (re_msg.receipt_handle, msg.message_body, re_msg.message_id))\n",
    "    except MNSExceptionBase:\n",
    "        # 返回消息发送错误\n",
    "        raise MNSMessageSendException(\"Message send error\")\n",
    "\n"
   ]
  },
  {
   "cell_type": "code",
   "execution_count": null,
   "metadata": {},
   "outputs": [],
   "source": [
    "def delete_processed_messages(receive_queue, message):\n",
    "    try:\n",
    "        receive_queue.delete_message(message.receipt_handle)\n",
    "        print(\"Delete Message Succeed!  ReceiptHandle:%s\" %\n",
    "              message.receipt_handle)\n",
    "    except MNSExceptionBase as e:\n",
    "        if e.type == \"QueueNotExist\":\n",
    "            print(\"Queue not exist, please create queue before delete message.\")\n",
    "        elif e.type == \"MessageNotExist\":\n",
    "            print(\"Message not exist, maybe deleted already!\")\n",
    "        raise MNSMessageDeleteException(\"Message delete error\")\n"
   ]
  },
  {
   "cell_type": "code",
   "execution_count": null,
   "metadata": {},
   "outputs": [],
   "source": [
    "def send_test_message(receive_queue):\n",
    "    with open('test.json', 'r') as f:\n",
    "        test_data = json.load(f)\n",
    "\n",
    "    # 测试发送消息\n",
    "    msg_count = 10\n",
    "\n",
    "    for i in range(msg_count):\n",
    "        msg_body = json.dumps(test_data)\n",
    "        msg_tag = \"test\"\n",
    "        msg = Message(msg_body)\n",
    "        try:\n",
    "            re_msg = receive_queue.send_message(msg)\n",
    "            print(\"Publish Message Succeed.\\nMessageBody:%s\\nMessageTag:%s\\nMessageId:%s\\nMessageBodyMd5:%s\\n\\n\" % (msg_body, msg_tag, re_msg.message_id, re_msg.message_body_md5))\n",
    "        except MNSExceptionBase as e:\n",
    "            print(\"Send Message Fail! Exception:%s\\n\" % e)\n"
   ]
  },
  {
   "cell_type": "code",
   "execution_count": null,
   "metadata": {},
   "outputs": [],
   "source": [
    "wait_seconds = 3\n",
    "\n",
    "receive_queue = my_account.get_queue(queue_name='python-label-task')\n",
    "send_test_message(receive_queue)\n",
    "\n",
    "send_back_queue = my_account.get_queue(queue_name='python-label-result')\n",
    "\n",
    "while True:\n",
    "    try:\n",
    "        # 接收消息\n",
    "        recv_msg = receive_raw_messages(receive_queue)\n",
    "    except MNSMessageRetrieveException as e:\n",
    "        # 暂停wait_seconds秒\n",
    "        print(e)\n",
    "        time.sleep(wait_seconds)\n",
    "        continue\n",
    "\n",
    "    try:\n",
    "        # 处理消息\n",
    "        [clueId, tagId] = process_raw_messages(recv_msg)\n",
    "    except MNSMessageModifyException as e:\n",
    "        # 定义下次重新接收消息的时间间隔\n",
    "        time_interval = 2**(recv_msg.dequeue_count - 1)\n",
    "        # 将该消息修改为三十秒内不可见\n",
    "        if recv_msg.dequeue_count <= 8:\n",
    "            receive_queue.change_message_visibility(recv_msg.receipt_handle, 30)\n",
    "        else:\n",
    "            # 删除消息\n",
    "            delete_processed_messages(receive_queue, recv_msg)\n",
    "        continue\n",
    "\n",
    "    try:\n",
    "        # 发回消息\n",
    "        send_back_processed_messages(send_back_queue, clueId, tagId)\n",
    "    except MNSMessageSendException as e:\n",
    "        print(e)\n",
    "        time.sleep(wait_seconds)\n",
    "\n",
    "    try:\n",
    "        # 删除消息\n",
    "        delete_processed_messages(receive_queue, recv_msg)\n",
    "        \n",
    "    except MNSMessageDeleteException as e:\n",
    "        print(e)\n",
    "        time.sleep(wait_seconds)\n",
    "        \n",
    "    except Exception as e:\n",
    "        print(e)\n",
    "        time.sleep(wait_seconds)\n"
   ]
  }
 ],
 "metadata": {
  "kernelspec": {
   "display_name": "base",
   "language": "python",
   "name": "python3"
  },
  "language_info": {
   "codemirror_mode": {
    "name": "ipython",
    "version": 3
   },
   "file_extension": ".py",
   "mimetype": "text/x-python",
   "name": "python",
   "nbconvert_exporter": "python",
   "pygments_lexer": "ipython3",
   "version": "3.9.7"
  },
  "orig_nbformat": 4
 },
 "nbformat": 4,
 "nbformat_minor": 2
}
